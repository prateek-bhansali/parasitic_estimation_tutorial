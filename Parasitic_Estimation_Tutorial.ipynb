{
 "cells": [
  {
   "cell_type": "markdown",
   "metadata": {},
   "source": [
    "# Introduction\n",
    "This notebook will walk you through  a  machine learning task of predicting output variable(s) starting with CSV data in the context of Electronic Design Automation (EDA). The problem statement is to predict net capacitance given pre-layout net features like number of MOS devices connected, total width etc. Please refer to \"B. Shook, P. Bhansali, C. Kashyap, C. Amin and S. Joshi, MLParest: Machine Learning based Parasitic Estimation for Custom Circuit Design, 2020 57th ACM/IEEE Design Automation Conference (DAC), 2020, pp. 1-6, doi: 10.1109/DAC18072.2020.9218495\" for more details on the problem statement. The outline of this Jupyter notebook is as follows:\n",
    "<ol>\n",
    "<li> Look at the bigger picture </li>\n",
    "<li> Get the data  </li>\n",
    "<li> Visualize and gain insights </li>\n",
    "<li> Prepare the data for machine learning  </li>\n",
    "<li> Select a model and train  </li>\n",
    "<li> Fine tune the model </li>\n",
    "<li> Present the solution  </li>\n",
    "<li> Save the model </li> \n",
    "</ol>"
   ]
  },
  {
   "cell_type": "markdown",
   "metadata": {},
   "source": [
    "## Problem Statement \n",
    "Given past net capacitances values from layout and extraction, build a model which can predict net capacitance within a \"reasonable\" accuracy. Having such a model can potentially help you shorter the expensive pre-polo iterations during a circuit design phase. We forumlate this problem as a regression task.\n"
   ]
  },
  {
   "cell_type": "markdown",
   "metadata": {},
   "source": [
    "### Import Libraries"
   ]
  },
  {
   "cell_type": "code",
   "execution_count": 43,
   "metadata": {},
   "outputs": [],
   "source": [
    "# NumPy and Pandas and other generics\n",
    "import pandas as pd\n",
    "import numpy as np\n",
    "import sys\n",
    "import random"
   ]
  },
  {
   "cell_type": "code",
   "execution_count": 44,
   "metadata": {},
   "outputs": [],
   "source": [
    "# SKLEARN libraries\n",
    "from sklearn.preprocessing import StandardScaler\n",
    "from sklearn.model_selection import StratifiedShuffleSplit, train_test_split\n",
    "from sklearn.base import BaseEstimator, TransformerMixin\n",
    "from sklearn.preprocessing import OneHotEncoder, OrdinalEncoder, StandardScaler\n",
    "from sklearn.impute import SimpleImputer\n",
    "from sklearn.pipeline import Pipeline\n",
    "from sklearn.compose import ColumnTransformer\n",
    "from sklearn.metrics import r2_score\n",
    "from sklearn import linear_model\n",
    "from sklearn.linear_model import LinearRegression, Ridge, SGDRegressor\n",
    "from sklearn.metrics import mean_squared_error\n",
    "from sklearn.tree import DecisionTreeRegressor\n",
    "from sklearn.model_selection import cross_val_score\n",
    "from sklearn.ensemble import RandomForestRegressor\n",
    "from sklearn.neural_network import MLPRegressor\n",
    "from sklearn.ensemble import GradientBoostingRegressor\n",
    "from sklearn.experimental import enable_halving_search_cv \n",
    "from sklearn.model_selection import GridSearchCV, RandomizedSearchCV, HalvingGridSearchCV"
   ]
  },
  {
   "cell_type": "code",
   "execution_count": 45,
   "metadata": {},
   "outputs": [
    {
     "name": "stdout",
     "output_type": "stream",
     "text": [
      "Versions: sklearn = 0.24.2, pandas = 1.2.5, numpy = 1.19.5, python = 3.7.3\n"
     ]
    }
   ],
   "source": [
    "import sklearn \n",
    "print(f\"Versions: sklearn = {sklearn.__version__}, pandas = {pd.__version__}, numpy = {np.__version__}, python = {sys.version.split()[0]}\")\n"
   ]
  },
  {
   "cell_type": "code",
   "execution_count": 46,
   "metadata": {},
   "outputs": [],
   "source": [
    "# Visualization\n",
    "import matplotlib.pyplot as plt"
   ]
  },
  {
   "cell_type": "code",
   "execution_count": 47,
   "metadata": {},
   "outputs": [],
   "source": [
    "import warnings\n"
   ]
  },
  {
   "cell_type": "code",
   "execution_count": 48,
   "metadata": {},
   "outputs": [],
   "source": [
    "# Maintain a static random seed for reproducibility\n",
    "random.seed(7)"
   ]
  },
  {
   "cell_type": "code",
   "execution_count": 49,
   "metadata": {},
   "outputs": [],
   "source": [
    "# customize matplotlib\n",
    "SMALL_SIZE = 16\n",
    "MEDIUM_SIZE = 20\n",
    "BIGGER_SIZE = 24\n",
    "\n",
    "plt.rc('font', size=SMALL_SIZE)          # controls default text sizes\n",
    "plt.rc('axes', titlesize=SMALL_SIZE)     # fontsize of the axes title\n",
    "plt.rc('axes', labelsize=MEDIUM_SIZE)    # fontsize of the x and y labels\n",
    "plt.rc('xtick', labelsize=SMALL_SIZE)    # fontsize of the tick labels\n",
    "plt.rc('ytick', labelsize=SMALL_SIZE)    # fontsize of the tick labels\n",
    "plt.rc('legend', fontsize=SMALL_SIZE)    # legend fontsize\n",
    "plt.rc('figure', titlesize=BIGGER_SIZE)  # fontsize of the figure title"
   ]
  },
  {
   "cell_type": "code",
   "execution_count": 50,
   "metadata": {},
   "outputs": [],
   "source": [
    "warnings.filterwarnings(\"ignore\")"
   ]
  },
  {
   "cell_type": "markdown",
   "metadata": {},
   "source": [
    "## Get the Data\n",
    "###### Note: For the purposes of this notebook, we have normalized the data and named the features columns as f1,f2,f3, etc... for protecting our company's IP.\n",
    "If you want to predict housing price, upload housing prices with other house features. If you want to predict circuit performace, upload circuit performance data with circuit characterisitics. For parasitic estimation, we have collected data for each net. Each of the features f1, f2 ... represents normalized cap value (our target variable) and net characteristics (features) like total number of MOS devices connected, width of MOS devices, etc.\n"
   ]
  },
  {
   "cell_type": "code",
   "execution_count": 51,
   "metadata": {},
   "outputs": [],
   "source": [
    "# read the CSV data into \"df\"\n",
    "df = pd.read_csv(\"net_features_and_net_cap.csv\")"
   ]
  },
  {
   "cell_type": "markdown",
   "metadata": {},
   "source": [
    "## Visualize and gain insights\n",
    "See columns, number of sample points and may be find out dirty-data."
   ]
  },
  {
   "cell_type": "code",
   "execution_count": 10,
   "metadata": {},
   "outputs": [
    {
     "data": {
      "text/html": [
       "<div>\n",
       "<style scoped>\n",
       "    .dataframe tbody tr th:only-of-type {\n",
       "        vertical-align: middle;\n",
       "    }\n",
       "\n",
       "    .dataframe tbody tr th {\n",
       "        vertical-align: top;\n",
       "    }\n",
       "\n",
       "    .dataframe thead th {\n",
       "        text-align: right;\n",
       "    }\n",
       "</style>\n",
       "<table border=\"1\" class=\"dataframe\">\n",
       "  <thead>\n",
       "    <tr style=\"text-align: right;\">\n",
       "      <th></th>\n",
       "      <th>cap</th>\n",
       "      <th>f1</th>\n",
       "      <th>f2</th>\n",
       "      <th>f3</th>\n",
       "      <th>f4</th>\n",
       "      <th>f5</th>\n",
       "      <th>f6</th>\n",
       "      <th>f7</th>\n",
       "      <th>f8</th>\n",
       "      <th>f9</th>\n",
       "      <th>...</th>\n",
       "      <th>f13</th>\n",
       "      <th>f14</th>\n",
       "      <th>f15</th>\n",
       "      <th>f16</th>\n",
       "      <th>f17</th>\n",
       "      <th>f18</th>\n",
       "      <th>f19</th>\n",
       "      <th>f20</th>\n",
       "      <th>f21</th>\n",
       "      <th>f22</th>\n",
       "    </tr>\n",
       "  </thead>\n",
       "  <tbody>\n",
       "    <tr>\n",
       "      <th>0</th>\n",
       "      <td>0.077530</td>\n",
       "      <td>0.023840</td>\n",
       "      <td>1</td>\n",
       "      <td>0.014869</td>\n",
       "      <td>0.006585</td>\n",
       "      <td>0.009917</td>\n",
       "      <td>0.0</td>\n",
       "      <td>0.000000</td>\n",
       "      <td>0.000000</td>\n",
       "      <td>0.016164</td>\n",
       "      <td>...</td>\n",
       "      <td>0.025862</td>\n",
       "      <td>0.000000</td>\n",
       "      <td>0.0</td>\n",
       "      <td>0.000000</td>\n",
       "      <td>0.0</td>\n",
       "      <td>0.0</td>\n",
       "      <td>0.0</td>\n",
       "      <td>0.023698</td>\n",
       "      <td>0.023698</td>\n",
       "      <td>0.020043</td>\n",
       "    </tr>\n",
       "    <tr>\n",
       "      <th>1</th>\n",
       "      <td>0.022282</td>\n",
       "      <td>0.007805</td>\n",
       "      <td>0</td>\n",
       "      <td>0.001952</td>\n",
       "      <td>0.000878</td>\n",
       "      <td>0.001322</td>\n",
       "      <td>0.0</td>\n",
       "      <td>0.003586</td>\n",
       "      <td>0.001870</td>\n",
       "      <td>0.001616</td>\n",
       "      <td>...</td>\n",
       "      <td>0.006466</td>\n",
       "      <td>0.009021</td>\n",
       "      <td>0.0</td>\n",
       "      <td>0.004187</td>\n",
       "      <td>0.0</td>\n",
       "      <td>0.0</td>\n",
       "      <td>0.0</td>\n",
       "      <td>0.007805</td>\n",
       "      <td>0.007805</td>\n",
       "      <td>0.006681</td>\n",
       "    </tr>\n",
       "    <tr>\n",
       "      <th>2</th>\n",
       "      <td>0.049999</td>\n",
       "      <td>0.023698</td>\n",
       "      <td>0</td>\n",
       "      <td>0.005926</td>\n",
       "      <td>0.002634</td>\n",
       "      <td>0.003967</td>\n",
       "      <td>0.0</td>\n",
       "      <td>0.010758</td>\n",
       "      <td>0.005609</td>\n",
       "      <td>0.004849</td>\n",
       "      <td>...</td>\n",
       "      <td>0.019397</td>\n",
       "      <td>0.027062</td>\n",
       "      <td>0.0</td>\n",
       "      <td>0.012560</td>\n",
       "      <td>0.0</td>\n",
       "      <td>0.0</td>\n",
       "      <td>0.0</td>\n",
       "      <td>0.023698</td>\n",
       "      <td>0.023698</td>\n",
       "      <td>0.020043</td>\n",
       "    </tr>\n",
       "    <tr>\n",
       "      <th>3</th>\n",
       "      <td>0.151557</td>\n",
       "      <td>0.072229</td>\n",
       "      <td>0</td>\n",
       "      <td>0.018063</td>\n",
       "      <td>0.007902</td>\n",
       "      <td>0.012149</td>\n",
       "      <td>0.0</td>\n",
       "      <td>0.032275</td>\n",
       "      <td>0.016827</td>\n",
       "      <td>0.014778</td>\n",
       "      <td>...</td>\n",
       "      <td>0.059113</td>\n",
       "      <td>0.081186</td>\n",
       "      <td>0.0</td>\n",
       "      <td>0.037679</td>\n",
       "      <td>0.0</td>\n",
       "      <td>0.0</td>\n",
       "      <td>0.0</td>\n",
       "      <td>0.072229</td>\n",
       "      <td>0.072229</td>\n",
       "      <td>0.060845</td>\n",
       "    </tr>\n",
       "    <tr>\n",
       "      <th>4</th>\n",
       "      <td>0.136290</td>\n",
       "      <td>0.054491</td>\n",
       "      <td>1</td>\n",
       "      <td>0.013592</td>\n",
       "      <td>0.005926</td>\n",
       "      <td>0.009174</td>\n",
       "      <td>0.0</td>\n",
       "      <td>0.098361</td>\n",
       "      <td>0.051282</td>\n",
       "      <td>0.000000</td>\n",
       "      <td>...</td>\n",
       "      <td>0.000000</td>\n",
       "      <td>0.247423</td>\n",
       "      <td>0.0</td>\n",
       "      <td>0.114833</td>\n",
       "      <td>0.0</td>\n",
       "      <td>0.0</td>\n",
       "      <td>0.0</td>\n",
       "      <td>0.054349</td>\n",
       "      <td>0.054349</td>\n",
       "      <td>0.045812</td>\n",
       "    </tr>\n",
       "  </tbody>\n",
       "</table>\n",
       "<p>5 rows × 23 columns</p>\n",
       "</div>"
      ],
      "text/plain": [
       "        cap        f1  f2        f3        f4        f5   f6        f7  \\\n",
       "0  0.077530  0.023840   1  0.014869  0.006585  0.009917  0.0  0.000000   \n",
       "1  0.022282  0.007805   0  0.001952  0.000878  0.001322  0.0  0.003586   \n",
       "2  0.049999  0.023698   0  0.005926  0.002634  0.003967  0.0  0.010758   \n",
       "3  0.151557  0.072229   0  0.018063  0.007902  0.012149  0.0  0.032275   \n",
       "4  0.136290  0.054491   1  0.013592  0.005926  0.009174  0.0  0.098361   \n",
       "\n",
       "         f8        f9  ...       f13       f14  f15       f16  f17  f18  f19  \\\n",
       "0  0.000000  0.016164  ...  0.025862  0.000000  0.0  0.000000  0.0  0.0  0.0   \n",
       "1  0.001870  0.001616  ...  0.006466  0.009021  0.0  0.004187  0.0  0.0  0.0   \n",
       "2  0.005609  0.004849  ...  0.019397  0.027062  0.0  0.012560  0.0  0.0  0.0   \n",
       "3  0.016827  0.014778  ...  0.059113  0.081186  0.0  0.037679  0.0  0.0  0.0   \n",
       "4  0.051282  0.000000  ...  0.000000  0.247423  0.0  0.114833  0.0  0.0  0.0   \n",
       "\n",
       "        f20       f21       f22  \n",
       "0  0.023698  0.023698  0.020043  \n",
       "1  0.007805  0.007805  0.006681  \n",
       "2  0.023698  0.023698  0.020043  \n",
       "3  0.072229  0.072229  0.060845  \n",
       "4  0.054349  0.054349  0.045812  \n",
       "\n",
       "[5 rows x 23 columns]"
      ]
     },
     "execution_count": 10,
     "metadata": {},
     "output_type": "execute_result"
    }
   ],
   "source": [
    "# print a few elements in the dataframe\n",
    "df.head()"
   ]
  },
  {
   "cell_type": "markdown",
   "metadata": {},
   "source": [
    "## Get Data Information\n",
    "\n",
    "Some of the data may be missing, some data may be of numerical type, some data might be of \"object\" type.\n",
    "###### Question: Do you think you can infer some of the data to be missing based on the information below? \n",
    "###### Question: How do you plan to deal with missing data if there is any? (Data imputation?)"
   ]
  },
  {
   "cell_type": "code",
   "execution_count": 11,
   "metadata": {},
   "outputs": [
    {
     "name": "stdout",
     "output_type": "stream",
     "text": [
      "<class 'pandas.core.frame.DataFrame'>\n",
      "RangeIndex: 137505 entries, 0 to 137504\n",
      "Data columns (total 23 columns):\n",
      " #   Column  Non-Null Count   Dtype  \n",
      "---  ------  --------------   -----  \n",
      " 0   cap     137505 non-null  float64\n",
      " 1   f1      137505 non-null  float64\n",
      " 2   f2      137505 non-null  int64  \n",
      " 3   f3      137505 non-null  float64\n",
      " 4   f4      137505 non-null  float64\n",
      " 5   f5      137505 non-null  float64\n",
      " 6   f6      137505 non-null  float64\n",
      " 7   f7      137505 non-null  float64\n",
      " 8   f8      137505 non-null  float64\n",
      " 9   f9      137505 non-null  float64\n",
      " 10  f10     137505 non-null  float64\n",
      " 11  f11     137505 non-null  float64\n",
      " 12  f12     137505 non-null  float64\n",
      " 13  f13     137505 non-null  float64\n",
      " 14  f14     137505 non-null  float64\n",
      " 15  f15     137505 non-null  float64\n",
      " 16  f16     137505 non-null  float64\n",
      " 17  f17     137505 non-null  float64\n",
      " 18  f18     137505 non-null  float64\n",
      " 19  f19     137505 non-null  float64\n",
      " 20  f20     137505 non-null  float64\n",
      " 21  f21     137505 non-null  float64\n",
      " 22  f22     137505 non-null  float64\n",
      "dtypes: float64(22), int64(1)\n",
      "memory usage: 24.1 MB\n"
     ]
    }
   ],
   "source": [
    "# info() method prints information about a DataFrame like non-null values and memory usage.\n",
    "df.info()"
   ]
  },
  {
   "cell_type": "markdown",
   "metadata": {},
   "source": [
    "## Statistics of Numerical Data"
   ]
  },
  {
   "cell_type": "code",
   "execution_count": 12,
   "metadata": {},
   "outputs": [
    {
     "data": {
      "text/html": [
       "<div>\n",
       "<style scoped>\n",
       "    .dataframe tbody tr th:only-of-type {\n",
       "        vertical-align: middle;\n",
       "    }\n",
       "\n",
       "    .dataframe tbody tr th {\n",
       "        vertical-align: top;\n",
       "    }\n",
       "\n",
       "    .dataframe thead th {\n",
       "        text-align: right;\n",
       "    }\n",
       "</style>\n",
       "<table border=\"1\" class=\"dataframe\">\n",
       "  <thead>\n",
       "    <tr style=\"text-align: right;\">\n",
       "      <th></th>\n",
       "      <th>cap</th>\n",
       "      <th>f1</th>\n",
       "      <th>f2</th>\n",
       "      <th>f3</th>\n",
       "      <th>f4</th>\n",
       "      <th>f5</th>\n",
       "      <th>f6</th>\n",
       "      <th>f7</th>\n",
       "      <th>f8</th>\n",
       "      <th>f9</th>\n",
       "      <th>...</th>\n",
       "      <th>f13</th>\n",
       "      <th>f14</th>\n",
       "      <th>f15</th>\n",
       "      <th>f16</th>\n",
       "      <th>f17</th>\n",
       "      <th>f18</th>\n",
       "      <th>f19</th>\n",
       "      <th>f20</th>\n",
       "      <th>f21</th>\n",
       "      <th>f22</th>\n",
       "    </tr>\n",
       "  </thead>\n",
       "  <tbody>\n",
       "    <tr>\n",
       "      <th>count</th>\n",
       "      <td>137505.000000</td>\n",
       "      <td>137505.000000</td>\n",
       "      <td>137505.000000</td>\n",
       "      <td>137505.000000</td>\n",
       "      <td>137505.000000</td>\n",
       "      <td>137505.000000</td>\n",
       "      <td>137505.000000</td>\n",
       "      <td>137505.000000</td>\n",
       "      <td>137505.000000</td>\n",
       "      <td>137505.000000</td>\n",
       "      <td>...</td>\n",
       "      <td>137505.000000</td>\n",
       "      <td>137505.000000</td>\n",
       "      <td>137505.000000</td>\n",
       "      <td>137505.000000</td>\n",
       "      <td>137505.000000</td>\n",
       "      <td>137505.000000</td>\n",
       "      <td>137505.000000</td>\n",
       "      <td>137505.000000</td>\n",
       "      <td>137505.000000</td>\n",
       "      <td>137505.000000</td>\n",
       "    </tr>\n",
       "    <tr>\n",
       "      <th>mean</th>\n",
       "      <td>0.007995</td>\n",
       "      <td>0.002204</td>\n",
       "      <td>0.080579</td>\n",
       "      <td>0.001112</td>\n",
       "      <td>0.000554</td>\n",
       "      <td>0.000711</td>\n",
       "      <td>0.001249</td>\n",
       "      <td>0.002838</td>\n",
       "      <td>0.002078</td>\n",
       "      <td>0.000743</td>\n",
       "      <td>...</td>\n",
       "      <td>0.001122</td>\n",
       "      <td>0.003015</td>\n",
       "      <td>0.001053</td>\n",
       "      <td>0.001964</td>\n",
       "      <td>0.000125</td>\n",
       "      <td>0.000106</td>\n",
       "      <td>0.000029</td>\n",
       "      <td>0.001704</td>\n",
       "      <td>0.001824</td>\n",
       "      <td>0.001763</td>\n",
       "    </tr>\n",
       "    <tr>\n",
       "      <th>std</th>\n",
       "      <td>0.025053</td>\n",
       "      <td>0.009111</td>\n",
       "      <td>0.272188</td>\n",
       "      <td>0.006975</td>\n",
       "      <td>0.005343</td>\n",
       "      <td>0.005152</td>\n",
       "      <td>0.011249</td>\n",
       "      <td>0.012596</td>\n",
       "      <td>0.011198</td>\n",
       "      <td>0.006959</td>\n",
       "      <td>...</td>\n",
       "      <td>0.007868</td>\n",
       "      <td>0.010235</td>\n",
       "      <td>0.007599</td>\n",
       "      <td>0.008258</td>\n",
       "      <td>0.007089</td>\n",
       "      <td>0.005240</td>\n",
       "      <td>0.004617</td>\n",
       "      <td>0.008020</td>\n",
       "      <td>0.008949</td>\n",
       "      <td>0.006930</td>\n",
       "    </tr>\n",
       "    <tr>\n",
       "      <th>min</th>\n",
       "      <td>0.000000</td>\n",
       "      <td>0.000000</td>\n",
       "      <td>0.000000</td>\n",
       "      <td>0.000000</td>\n",
       "      <td>0.000000</td>\n",
       "      <td>0.000000</td>\n",
       "      <td>0.000000</td>\n",
       "      <td>0.000000</td>\n",
       "      <td>0.000000</td>\n",
       "      <td>0.000000</td>\n",
       "      <td>...</td>\n",
       "      <td>0.000000</td>\n",
       "      <td>0.000000</td>\n",
       "      <td>0.000000</td>\n",
       "      <td>0.000000</td>\n",
       "      <td>0.000000</td>\n",
       "      <td>0.000000</td>\n",
       "      <td>0.000000</td>\n",
       "      <td>0.000000</td>\n",
       "      <td>0.000000</td>\n",
       "      <td>0.000000</td>\n",
       "    </tr>\n",
       "    <tr>\n",
       "      <th>25%</th>\n",
       "      <td>0.000544</td>\n",
       "      <td>0.000710</td>\n",
       "      <td>0.000000</td>\n",
       "      <td>0.000177</td>\n",
       "      <td>0.000073</td>\n",
       "      <td>0.000103</td>\n",
       "      <td>0.000000</td>\n",
       "      <td>0.000512</td>\n",
       "      <td>0.000401</td>\n",
       "      <td>0.000077</td>\n",
       "      <td>...</td>\n",
       "      <td>0.000308</td>\n",
       "      <td>0.001289</td>\n",
       "      <td>0.000000</td>\n",
       "      <td>0.000598</td>\n",
       "      <td>0.000000</td>\n",
       "      <td>0.000000</td>\n",
       "      <td>0.000000</td>\n",
       "      <td>0.000426</td>\n",
       "      <td>0.000426</td>\n",
       "      <td>0.000000</td>\n",
       "    </tr>\n",
       "    <tr>\n",
       "      <th>50%</th>\n",
       "      <td>0.001488</td>\n",
       "      <td>0.000993</td>\n",
       "      <td>0.000000</td>\n",
       "      <td>0.000302</td>\n",
       "      <td>0.000146</td>\n",
       "      <td>0.000165</td>\n",
       "      <td>0.000000</td>\n",
       "      <td>0.001025</td>\n",
       "      <td>0.000534</td>\n",
       "      <td>0.000154</td>\n",
       "      <td>...</td>\n",
       "      <td>0.000308</td>\n",
       "      <td>0.001289</td>\n",
       "      <td>0.000000</td>\n",
       "      <td>0.000897</td>\n",
       "      <td>0.000000</td>\n",
       "      <td>0.000000</td>\n",
       "      <td>0.000000</td>\n",
       "      <td>0.000710</td>\n",
       "      <td>0.000710</td>\n",
       "      <td>0.000477</td>\n",
       "    </tr>\n",
       "    <tr>\n",
       "      <th>75%</th>\n",
       "      <td>0.006313</td>\n",
       "      <td>0.001561</td>\n",
       "      <td>0.000000</td>\n",
       "      <td>0.000781</td>\n",
       "      <td>0.000366</td>\n",
       "      <td>0.000413</td>\n",
       "      <td>0.000558</td>\n",
       "      <td>0.002049</td>\n",
       "      <td>0.001335</td>\n",
       "      <td>0.000308</td>\n",
       "      <td>...</td>\n",
       "      <td>0.000616</td>\n",
       "      <td>0.002577</td>\n",
       "      <td>0.000558</td>\n",
       "      <td>0.001196</td>\n",
       "      <td>0.000000</td>\n",
       "      <td>0.000000</td>\n",
       "      <td>0.000000</td>\n",
       "      <td>0.000993</td>\n",
       "      <td>0.001135</td>\n",
       "      <td>0.001432</td>\n",
       "    </tr>\n",
       "    <tr>\n",
       "      <th>max</th>\n",
       "      <td>1.000000</td>\n",
       "      <td>1.000000</td>\n",
       "      <td>1.000000</td>\n",
       "      <td>1.000000</td>\n",
       "      <td>1.000000</td>\n",
       "      <td>1.000000</td>\n",
       "      <td>1.000000</td>\n",
       "      <td>1.000000</td>\n",
       "      <td>1.000000</td>\n",
       "      <td>1.000000</td>\n",
       "      <td>...</td>\n",
       "      <td>1.000000</td>\n",
       "      <td>1.000000</td>\n",
       "      <td>1.000000</td>\n",
       "      <td>1.000000</td>\n",
       "      <td>1.000000</td>\n",
       "      <td>1.000000</td>\n",
       "      <td>1.000000</td>\n",
       "      <td>1.000000</td>\n",
       "      <td>1.000000</td>\n",
       "      <td>1.000000</td>\n",
       "    </tr>\n",
       "  </tbody>\n",
       "</table>\n",
       "<p>8 rows × 23 columns</p>\n",
       "</div>"
      ],
      "text/plain": [
       "                 cap             f1             f2             f3  \\\n",
       "count  137505.000000  137505.000000  137505.000000  137505.000000   \n",
       "mean        0.007995       0.002204       0.080579       0.001112   \n",
       "std         0.025053       0.009111       0.272188       0.006975   \n",
       "min         0.000000       0.000000       0.000000       0.000000   \n",
       "25%         0.000544       0.000710       0.000000       0.000177   \n",
       "50%         0.001488       0.000993       0.000000       0.000302   \n",
       "75%         0.006313       0.001561       0.000000       0.000781   \n",
       "max         1.000000       1.000000       1.000000       1.000000   \n",
       "\n",
       "                  f4             f5             f6             f7  \\\n",
       "count  137505.000000  137505.000000  137505.000000  137505.000000   \n",
       "mean        0.000554       0.000711       0.001249       0.002838   \n",
       "std         0.005343       0.005152       0.011249       0.012596   \n",
       "min         0.000000       0.000000       0.000000       0.000000   \n",
       "25%         0.000073       0.000103       0.000000       0.000512   \n",
       "50%         0.000146       0.000165       0.000000       0.001025   \n",
       "75%         0.000366       0.000413       0.000558       0.002049   \n",
       "max         1.000000       1.000000       1.000000       1.000000   \n",
       "\n",
       "                  f8             f9  ...            f13            f14  \\\n",
       "count  137505.000000  137505.000000  ...  137505.000000  137505.000000   \n",
       "mean        0.002078       0.000743  ...       0.001122       0.003015   \n",
       "std         0.011198       0.006959  ...       0.007868       0.010235   \n",
       "min         0.000000       0.000000  ...       0.000000       0.000000   \n",
       "25%         0.000401       0.000077  ...       0.000308       0.001289   \n",
       "50%         0.000534       0.000154  ...       0.000308       0.001289   \n",
       "75%         0.001335       0.000308  ...       0.000616       0.002577   \n",
       "max         1.000000       1.000000  ...       1.000000       1.000000   \n",
       "\n",
       "                 f15            f16            f17            f18  \\\n",
       "count  137505.000000  137505.000000  137505.000000  137505.000000   \n",
       "mean        0.001053       0.001964       0.000125       0.000106   \n",
       "std         0.007599       0.008258       0.007089       0.005240   \n",
       "min         0.000000       0.000000       0.000000       0.000000   \n",
       "25%         0.000000       0.000598       0.000000       0.000000   \n",
       "50%         0.000000       0.000897       0.000000       0.000000   \n",
       "75%         0.000558       0.001196       0.000000       0.000000   \n",
       "max         1.000000       1.000000       1.000000       1.000000   \n",
       "\n",
       "                 f19            f20            f21            f22  \n",
       "count  137505.000000  137505.000000  137505.000000  137505.000000  \n",
       "mean        0.000029       0.001704       0.001824       0.001763  \n",
       "std         0.004617       0.008020       0.008949       0.006930  \n",
       "min         0.000000       0.000000       0.000000       0.000000  \n",
       "25%         0.000000       0.000426       0.000426       0.000000  \n",
       "50%         0.000000       0.000710       0.000710       0.000477  \n",
       "75%         0.000000       0.000993       0.001135       0.001432  \n",
       "max         1.000000       1.000000       1.000000       1.000000  \n",
       "\n",
       "[8 rows x 23 columns]"
      ]
     },
     "execution_count": 12,
     "metadata": {},
     "output_type": "execute_result"
    }
   ],
   "source": [
    "# describe() method generate descriptive statistics.\n",
    "df.describe()"
   ]
  },
  {
   "cell_type": "code",
   "execution_count": 13,
   "metadata": {},
   "outputs": [],
   "source": [
    "# Optional: pairwise plots\n",
    "#import seaborn as sns\n",
    "#pplot = sns.pairplot(df[list(df.columns)], diag_kind='kde')\n"
   ]
  },
  {
   "cell_type": "markdown",
   "metadata": {},
   "source": [
    "## Histogram"
   ]
  },
  {
   "cell_type": "code",
   "execution_count": 14,
   "metadata": {},
   "outputs": [
    {
     "data": {
      "image/png": "[encoded data removed]",
      "text/plain": [
       "<Figure size 720x504 with 1 Axes>"
      ]
     },
     "metadata": {
      "needs_background": "light"
     },
     "output_type": "display_data"
    }
   ],
   "source": [
    "# do a histogram plot of the output variable \"cap\"\n",
    "step = 0.05\n",
    "bin_range = np.arange(0, 1+step, step)\n",
    "out, bins  = pd.cut(df['cap'], bins=bin_range, include_lowest=True, right=False, retbins=True)\n",
    "ax = out.value_counts(sort=False).plot.bar(figsize=(10,7), x=\"range\", y=\"count\")"
   ]
  },
  {
   "cell_type": "code",
   "execution_count": 15,
   "metadata": {},
   "outputs": [
    {
     "data": {
      "text/plain": [
       "[0.0, 0.05)    131788\n",
       "[0.05, 0.1)      4757\n",
       "[0.1, 0.15)       580\n",
       "[0.15, 0.2)       192\n",
       "[0.2, 0.25)        52\n",
       "[0.25, 0.3)        26\n",
       "[0.35, 0.4)        21\n",
       "[0.4, 0.45)        15\n",
       "[0.3, 0.35)        13\n",
       "[0.75, 0.8)         8\n",
       "[0.8, 0.85)         8\n",
       "[0.6, 0.65)         7\n",
       "[0.7, 0.75)         7\n",
       "[0.85, 0.9)         6\n",
       "[0.45, 0.5)         6\n",
       "[0.9, 0.95)         6\n",
       "[0.55, 0.6)         4\n",
       "[0.5, 0.55)         3\n",
       "[0.65, 0.7)         3\n",
       "[0.95, 1.0)         2\n",
       "Name: cap, dtype: int64"
      ]
     },
     "execution_count": 15,
     "metadata": {},
     "output_type": "execute_result"
    }
   ],
   "source": [
    "# count number of caps in each bin\n",
    "#  -- most of the caps are small and between 0 and 0.05\n",
    "out.value_counts()"
   ]
  },
  {
   "cell_type": "markdown",
   "metadata": {},
   "source": [
    "## Correlation"
   ]
  },
  {
   "cell_type": "code",
   "execution_count": 16,
   "metadata": {},
   "outputs": [
    {
     "data": {
      "image/png": "[encoded data removed]",
      "text/plain": [
       "<Figure size 432x288 with 1 Axes>"
      ]
     },
     "metadata": {
      "needs_background": "light"
     },
     "output_type": "display_data"
    }
   ],
   "source": [
    "ax = df.plot(kind=\"scatter\", x=\"f1\", y=\"cap\")"
   ]
  },
  {
   "cell_type": "code",
   "execution_count": 17,
   "metadata": {
    "scrolled": true
   },
   "outputs": [
    {
     "data": {
      "image/png": "[encoded data removed]",
      "text/plain": [
       "<Figure size 432x288 with 1 Axes>"
      ]
     },
     "metadata": {
      "needs_background": "light"
     },
     "output_type": "display_data"
    }
   ],
   "source": [
    "ax = df.plot(kind=\"scatter\", x=\"f3\", y=\"cap\")"
   ]
  },
  {
   "cell_type": "code",
   "execution_count": 18,
   "metadata": {},
   "outputs": [],
   "source": [
    "# Compute pairwise correlation of columns\n",
    "corr_matrix = df.corr()"
   ]
  },
  {
   "cell_type": "code",
   "execution_count": 19,
   "metadata": {},
   "outputs": [
    {
     "data": {
      "text/plain": [
       "cap    1.000000\n",
       "f1     0.622855\n",
       "f2     0.111688\n",
       "f3     0.539515\n",
       "f4     0.364528\n",
       "f5     0.423528\n",
       "f6     0.323822\n",
       "f7     0.455826\n",
       "f8     0.423008\n",
       "f9     0.455034\n",
       "f10    0.038039\n",
       "f11    0.422737\n",
       "f12    0.479989\n",
       "f13    0.542589\n",
       "f14    0.421529\n",
       "f15    0.311896\n",
       "f16    0.396298\n",
       "f17    0.003178\n",
       "f18    0.000856\n",
       "f19    0.028591\n",
       "f20    0.620966\n",
       "f21    0.613285\n",
       "f22    0.562858\n",
       "Name: cap, dtype: float64"
      ]
     },
     "execution_count": 19,
     "metadata": {},
     "output_type": "execute_result"
    }
   ],
   "source": [
    "corr_matrix[\"cap\"]"
   ]
  },
  {
   "cell_type": "markdown",
   "metadata": {},
   "source": [
    "# Prepare the Data For Machine Learning Algorithms"
   ]
  },
  {
   "cell_type": "code",
   "execution_count": 20,
   "metadata": {},
   "outputs": [],
   "source": [
    "# output/target variable(s)\n",
    "target_cols = ['cap']\n",
    "\n",
    "# numerical attributes\n",
    "num_attribs = ['f1','f2','f3','f4', 'f5', 'f6', 'f7', 'f8', 'f9', 'f10', 'f11', 'f12', 'f13', 'f14', 'f15', 'f16', 'f17', 'f18', 'f19',\n",
    "       'f20', 'f21', 'f22']\n",
    "\n",
    "# categorical attributes (we do not have any in this case)\n",
    "cat_attribs = []\n",
    "\n",
    "# get the meaningful attributes and target_cols in the dataframe called \"circuit\"\n",
    "circuit = df[num_attribs+cat_attribs+target_cols].copy()"
   ]
  },
  {
   "cell_type": "markdown",
   "metadata": {},
   "source": [
    "## Outliner Detection:  Use RANSAC (RANdom SAmple Consensus) algorithm."
   ]
  },
  {
   "cell_type": "code",
   "execution_count": 21,
   "metadata": {},
   "outputs": [
    {
     "name": "stdout",
     "output_type": "stream",
     "text": [
      "Length of Original data:  137505\n",
      "Length of learing data:  136607\n",
      "Percentage of original data:  0.9934693283880586\n",
      "Number of outliers found:  898\n"
     ]
    }
   ],
   "source": [
    "def filter_outliers(X, Y, max_trials=500, sigma_scale=3):\n",
    "    \n",
    "    X_d = X.copy()\n",
    "    Y_d = Y.copy()\n",
    "    print(\"Length of Original data: \", len(X_d))\n",
    "    min_samples = np.floor(len(X_d)/2)\n",
    "    lmr = linear_model.RANSACRegressor(base_estimator=linear_model.LinearRegression(copy_X=True, normalize=True), \n",
    "                                       min_samples=min_samples, residual_threshold=sigma_scale*np.std([Y]), max_trials=max_trials, random_state=137)\n",
    "    model = lmr.fit(X_d, Y)\n",
    "    inlier_mask = lmr.inlier_mask_\n",
    "    outlier_mask = np.logical_not(inlier_mask)\n",
    "\n",
    "    X = X_d[inlier_mask].copy()\n",
    "    Y = Y_d[inlier_mask].copy()\n",
    "\n",
    "    print(\"Length of learing data: \", len(X))\n",
    "    print(\"Percentage of original data: \", len(X)/len(X_d))\n",
    "    print(\"Number of outliers found: \", len(X_d)-len(X))\n",
    "    \n",
    "    return X, Y\n",
    "X = circuit[num_attribs+cat_attribs]\n",
    "Y = circuit[target_cols]\n",
    "X, Y = filter_outliers(X, Y)"
   ]
  },
  {
   "cell_type": "markdown",
   "metadata": {},
   "source": [
    "## Create Test and Train Data:\n",
    "\n",
    "Before you do any training keep aside testing data -- humans are incredibly good at spotting patterns!! Just keep some data aside."
   ]
  },
  {
   "cell_type": "code",
   "execution_count": 22,
   "metadata": {},
   "outputs": [
    {
     "name": "stdout",
     "output_type": "stream",
     "text": [
      "Training Size:  95624 Testing size:  40983\n",
      "#Features:  22\n"
     ]
    }
   ],
   "source": [
    "# Split X, Y into random train (X_train, Y_train) and test (X_test, Y_test) subsets\n",
    "X_train, X_test, Y_train, Y_test = train_test_split(X, Y, test_size=0.3)\n",
    "print(\"Training Size: \", len(X_train), \"Testing size: \", len(X_test))\n",
    "print(\"#Features: \", len(X_train.columns))"
   ]
  },
  {
   "cell_type": "markdown",
   "metadata": {},
   "source": [
    "### Transformation Pipelines"
   ]
  },
  {
   "cell_type": "code",
   "execution_count": 23,
   "metadata": {},
   "outputs": [],
   "source": [
    "# numerical pipeline object -- you may do data imputation here\n",
    "#  -- we will do standard scaler transformation to our data\n",
    "num_pipeline = Pipeline([('std_scaler', StandardScaler())])\n",
    "\n",
    "# full pipeline with one-hot encoding of categorical inputs\n",
    "full_pipeline = ColumnTransformer([\n",
    "                (\"num\", num_pipeline, num_attribs),\n",
    "                (\"cat\", OneHotEncoder(), cat_attribs),\n",
    "                ])\n",
    "X_train_prepared = full_pipeline.fit_transform(X_train)"
   ]
  },
  {
   "cell_type": "markdown",
   "metadata": {},
   "source": [
    "# Explore Linear Regression, Random Forest (RF) and Gradient Boosted Decision Trees (GBDT)"
   ]
  },
  {
   "cell_type": "markdown",
   "metadata": {},
   "source": [
    "### Helper function: RMSE function"
   ]
  },
  {
   "cell_type": "code",
   "execution_count": 24,
   "metadata": {},
   "outputs": [],
   "source": [
    "# Root Mean Square Error function\n",
    "def get_model_rmse(model, data_pipeline, X_test, Y_true):\n",
    "    Y_pred = model.predict(data_pipeline.fit_transform(X_test))\n",
    "    return np.sqrt(mean_squared_error(Y_true.to_numpy(), Y_pred))"
   ]
  },
  {
   "cell_type": "markdown",
   "metadata": {},
   "source": [
    "### Default  Linear Regression  Model"
   ]
  },
  {
   "cell_type": "code",
   "execution_count": 25,
   "metadata": {},
   "outputs": [
    {
     "name": "stdout",
     "output_type": "stream",
     "text": [
      "RMSE of default Linear Model:  0.012109838428412388\n",
      "CPU times: user 284 ms, sys: 271 ms, total: 556 ms\n",
      "Wall time: 165 ms\n"
     ]
    }
   ],
   "source": [
    "%%time\n",
    "# Ordinary least squares Linear Regression.\n",
    "\"\"\"\n",
    "LinearRegression fits a linear model with coefficients w = (w1, ..., wp)\n",
    "to minimize the residual sum of squares between the observed targets in\n",
    "the dataset, and the targets predicted by the linear approximation.\n",
    "\"\"\"\n",
    "\n",
    "lin_reg = LinearRegression()\n",
    "lin_reg.fit(X_train_prepared, Y_train)\n",
    "print(\"RMSE of default Linear Model: \", get_model_rmse(lin_reg, full_pipeline,  X_train, Y_train))"
   ]
  },
  {
   "cell_type": "markdown",
   "metadata": {},
   "source": [
    "### Default Random Forest (RF) Regression "
   ]
  },
  {
   "cell_type": "code",
   "execution_count": 26,
   "metadata": {},
   "outputs": [
    {
     "name": "stdout",
     "output_type": "stream",
     "text": [
      "RMSE of default RF Model:  0.0033786973865209393\n",
      "CPU times: user 30 s, sys: 295 ms, total: 30.3 s\n",
      "Wall time: 7.78 s\n"
     ]
    }
   ],
   "source": [
    "%%time\n",
    "# Random Forest Regressor\n",
    "\"\"\"\n",
    "A random forest is a meta estimator that fits a number of classifying\n",
    "decision trees on various sub-samples of the dataset and uses averaging\n",
    "to improve the predictive accuracy and control over-fitting.\n",
    "\"\"\"\n",
    "forest_reg = RandomForestRegressor(n_jobs=-1)\n",
    "forest_reg.fit(X_train_prepared, Y_train.values)\n",
    "print(\"RMSE of default RF Model: \",get_model_rmse(forest_reg, full_pipeline,  X_train, Y_train))"
   ]
  },
  {
   "cell_type": "markdown",
   "metadata": {},
   "source": [
    "### Default Gradient Boosted Decision Trees (GBDT)\n"
   ]
  },
  {
   "cell_type": "code",
   "execution_count": 27,
   "metadata": {},
   "outputs": [
    {
     "name": "stdout",
     "output_type": "stream",
     "text": [
      "RMSE of default GBDT Model:  0.006332032559214701\n",
      "CPU times: user 10.9 s, sys: 0 ns, total: 10.9 s\n",
      "Wall time: 10.9 s\n"
     ]
    }
   ],
   "source": [
    "%%time\n",
    "#Gradient Boosting for regression.\n",
    "\"\"\"\n",
    "GB builds an additive model in a forward stage-wise fashion;\n",
    "\"\"\"\n",
    "gbdt_reg = GradientBoostingRegressor(random_state=0)\n",
    "gbdt_reg.fit(X_train_prepared, Y_train.values)\n",
    "print(\"RMSE of default GBDT Model: \",get_model_rmse(gbdt_reg, full_pipeline,  X_train, Y_train))"
   ]
  },
  {
   "cell_type": "markdown",
   "metadata": {},
   "source": [
    "# Fine Tuning the model\n",
    "\n",
    "## Evaluate Models using Cross-Validation: Compare CV_RMSE  scores with previously computed RMSE."
   ]
  },
  {
   "cell_type": "code",
   "execution_count": 28,
   "metadata": {},
   "outputs": [],
   "source": [
    "def display_cv_scores(scores):\n",
    "    print(\"Scores:\", scores)\n",
    "    print(\"Mean:\", scores.mean())\n",
    "    print(\"Standard deviation:\", scores.std())"
   ]
  },
  {
   "cell_type": "markdown",
   "metadata": {},
   "source": [
    "### CV Score of Linear Regression"
   ]
  },
  {
   "cell_type": "code",
   "execution_count": 29,
   "metadata": {},
   "outputs": [
    {
     "name": "stdout",
     "output_type": "stream",
     "text": [
      "Scores: [0.01328559 0.01195765 0.0121923  0.01214132 0.01212787]\n",
      "Mean: 0.012340946430903676\n",
      "Standard deviation: 0.00047887469420691375\n"
     ]
    }
   ],
   "source": [
    "scores = cross_val_score(lin_reg, X_train_prepared, Y_train, scoring = \"neg_mean_squared_error\", cv=5)\n",
    "lin_rmse_scores = np.sqrt(-scores)\n",
    "display_cv_scores(lin_rmse_scores)"
   ]
  },
  {
   "cell_type": "markdown",
   "metadata": {},
   "source": [
    "### CV Score of Random Forest Regression"
   ]
  },
  {
   "cell_type": "code",
   "execution_count": 30,
   "metadata": {},
   "outputs": [
    {
     "name": "stdout",
     "output_type": "stream",
     "text": [
      "Scores: [0.00406476 0.00492766 0.00536735 0.00400481 0.00380739]\n",
      "Mean: 0.0044343943083576965\n",
      "Standard deviation: 0.0006046536760889458\n"
     ]
    }
   ],
   "source": [
    "scores = cross_val_score(forest_reg, X_train_prepared, Y_train, scoring = \"neg_mean_squared_error\", cv=5)\n",
    "forest_rmse_scores = np.sqrt(-scores)\n",
    "display_cv_scores(forest_rmse_scores)"
   ]
  },
  {
   "cell_type": "markdown",
   "metadata": {},
   "source": [
    "### CV Score of GBDT"
   ]
  },
  {
   "cell_type": "code",
   "execution_count": 31,
   "metadata": {},
   "outputs": [
    {
     "name": "stdout",
     "output_type": "stream",
     "text": [
      "Scores: [0.00669476 0.00684345 0.00741301 0.00654892 0.00647032]\n",
      "Mean: 0.006794091938922407\n",
      "Standard deviation: 0.00033475310988066275\n"
     ]
    }
   ],
   "source": [
    "scores = cross_val_score(gbdt_reg, X_train_prepared, Y_train, scoring = \"neg_mean_squared_error\", cv=5)\n",
    "gbdt_rmse_scores = np.sqrt(-scores)\n",
    "display_cv_scores(gbdt_rmse_scores)"
   ]
  },
  {
   "cell_type": "markdown",
   "metadata": {},
   "source": [
    "# Hyper Parameter Tuning\n",
    "\n",
    "We discovered that Random Forest performs best on CV scores. Can we further imrove RF or GDBT using hyper-parameter tuning?"
   ]
  },
  {
   "cell_type": "code",
   "execution_count": 32,
   "metadata": {},
   "outputs": [
    {
     "name": "stdout",
     "output_type": "stream",
     "text": [
      "Best RF estimator RandomForestRegressor(max_features='sqrt', n_estimators=200, n_jobs=-1)\n",
      "RMSE of tuned RF model is : 0.0033875927206198746\n",
      "CPU times: user 27.1 s, sys: 270 ms, total: 27.4 s\n",
      "Wall time: 6min 24s\n"
     ]
    }
   ],
   "source": [
    "%%time\n",
    "\n",
    "# Define a parameter grid and do hyperparameter tuning for RF model\n",
    "\n",
    "\"\"\" \n",
    "param_grid = [\n",
    "    {'n_estimators': [100], 'max_depth':[10,15,None]}, \n",
    "    ]\n",
    "\"\"\" \n",
    "param_grid = [\n",
    "    {'n_estimators': [50, 100, 150, 200],\n",
    "     'max_depth':[10,15,None],\n",
    "     'max_features': [\"auto\", \"sqrt\", \"log2\", None],\n",
    "     'min_samples_leaf':[1, 5, 10, 15, 20]}  \n",
    "    ]\n",
    "forest_reg_gs = RandomForestRegressor(n_jobs=-1)\n",
    "\n",
    "grid_search_forest = HalvingGridSearchCV(forest_reg_gs, param_grid, cv=5,\n",
    "                           scoring='neg_mean_squared_error',\n",
    "                           return_train_score=True, verbose=0, n_jobs=-1)\n",
    "\n",
    "grid_search_forest.fit(X_train_prepared, Y_train)\n",
    "print(\"Best RF estimator\", grid_search_forest.best_estimator_)\n",
    "print(\"RMSE of tuned RF model is :\", get_model_rmse(grid_search_forest, full_pipeline, X_train, Y_train))"
   ]
  },
  {
   "cell_type": "code",
   "execution_count": 33,
   "metadata": {
    "scrolled": true
   },
   "outputs": [
    {
     "name": "stdout",
     "output_type": "stream",
     "text": [
      "Best GBDT estimator GradientBoostingRegressor(max_depth=10, max_features='sqrt')\n",
      "RMSE of tuned GBDT model is  0.003281195598028159\n",
      "CPU times: user 15 s, sys: 780 ms, total: 15.8 s\n",
      "Wall time: 4min 46s\n"
     ]
    }
   ],
   "source": [
    "%%time\n",
    "# Define a parameter grid and do hyperparameter tuning for GBDT model\n",
    "\"\"\"\n",
    "param_grid = [\n",
    "    {'n_estimators': [100], 'max_depth':[10,15,None]}, \n",
    "    ]\n",
    "\"\"\"\n",
    "param_grid = [\n",
    "    {'n_estimators': [50, 100, 150, 200],\n",
    "     'max_depth':[10,15,None],\n",
    "     'max_features': [\"auto\", \"sqrt\", \"log2\", None],\n",
    "     'min_samples_leaf':[1, 5, 10, 15, 20]}  \n",
    "    ]\n",
    "gbdt_reg_gs = GradientBoostingRegressor()\n",
    "\n",
    "grid_search_gbdt = HalvingGridSearchCV(gbdt_reg_gs, param_grid, cv=5,\n",
    "                           scoring='neg_mean_squared_error',\n",
    "                           return_train_score=True, verbose=0, n_jobs=-1)\n",
    "\n",
    "grid_search_gbdt.fit(X_train_prepared, Y_train)\n",
    "print(\"Best GBDT estimator\", grid_search_gbdt.best_estimator_)\n",
    "print(\"RMSE of tuned GBDT model is \", get_model_rmse(grid_search_gbdt, full_pipeline, X_train, Y_train))"
   ]
  },
  {
   "cell_type": "markdown",
   "metadata": {},
   "source": [
    "### Quick Test"
   ]
  },
  {
   "cell_type": "code",
   "execution_count": 34,
   "metadata": {},
   "outputs": [
    {
     "name": "stdout",
     "output_type": "stream",
     "text": [
      "Predictions       RF Model: [0.00286248 0.00046561 0.00305074 0.00048138 0.07553159]\n",
      "Predictions tuned RF Model: [0.00284831 0.00046582 0.00304563 0.00048168 0.0755103 ]\n",
      "Predictions       GBDT Model [0.00945122 0.00063459 0.00372003 0.00144793 0.07204102]\n",
      "Predictions tuned GBDT Model [0.00336014 0.00045715 0.00280984 0.00049241 0.07551923]\n",
      "Labels:              131857    113303    55901     73260     1805  \n",
      "cap  0.003023  0.000565  0.002592  0.000482  0.081947\n"
     ]
    }
   ],
   "source": [
    "# plotting \n",
    "some_data = X_train.iloc[:5]\n",
    "some_labels = Y_train.iloc[:5] \n",
    "some_data_prepared = full_pipeline.transform(some_data)\n",
    "print(\"Predictions       RF Model:\", forest_reg.predict(some_data_prepared))\n",
    "print(\"Predictions tuned RF Model:\", grid_search_forest.predict(some_data_prepared))\n",
    "print(\"Predictions       GBDT Model\", gbdt_reg.predict(some_data_prepared))\n",
    "print(\"Predictions tuned GBDT Model\", grid_search_gbdt.predict(some_data_prepared))\n",
    "print(\"Labels:      \", some_labels.transpose())"
   ]
  },
  {
   "cell_type": "markdown",
   "metadata": {},
   "source": [
    "### Tuned RF on Training Data"
   ]
  },
  {
   "cell_type": "code",
   "execution_count": 35,
   "metadata": {},
   "outputs": [
    {
     "data": {
      "text/plain": [
       "Text(0.5, 1.0, 'RF Predictions on Training Data')"
      ]
     },
     "execution_count": 35,
     "metadata": {},
     "output_type": "execute_result"
    },
    {
     "data": {
      "image/png": "[encoded data removed]",
      "text/plain": [
       "<Figure size 432x288 with 1 Axes>"
      ]
     },
     "metadata": {
      "needs_background": "light"
     },
     "output_type": "display_data"
    }
   ],
   "source": [
    "plt.scatter(Y_train, grid_search_forest.predict(X_train_prepared), color='g', label='Predictions')\n",
    "plt.plot(Y_train, Y_train)\n",
    "plt.xlabel(\"Actual Cap\")\n",
    "plt.ylabel(\"Predicted Cap\")\n",
    "plt.title(\"RF Predictions on Training Data\")"
   ]
  },
  {
   "cell_type": "markdown",
   "metadata": {},
   "source": [
    "### Tuned GBDT  on Training Data"
   ]
  },
  {
   "cell_type": "code",
   "execution_count": 36,
   "metadata": {},
   "outputs": [
    {
     "data": {
      "text/plain": [
       "Text(0.5, 1.0, 'GBDT Predictions on Training Data')"
      ]
     },
     "execution_count": 36,
     "metadata": {},
     "output_type": "execute_result"
    },
    {
     "data": {
      "image/png": "[encoded data removed]",
      "text/plain": [
       "<Figure size 432x288 with 1 Axes>"
      ]
     },
     "metadata": {
      "needs_background": "light"
     },
     "output_type": "display_data"
    }
   ],
   "source": [
    "plt.scatter(Y_train, grid_search_gbdt.predict(X_train_prepared), color='b', label='Predictions')\n",
    "plt.plot(Y_train, Y_train)\n",
    "plt.xlabel(\"Actual Cap\")\n",
    "plt.ylabel(\"Predicted Cap\")\n",
    "plt.title(\"GBDT Predictions on Training Data\")"
   ]
  },
  {
   "cell_type": "markdown",
   "metadata": {},
   "source": [
    "# Final Test"
   ]
  },
  {
   "cell_type": "code",
   "execution_count": 37,
   "metadata": {},
   "outputs": [
    {
     "name": "stdout",
     "output_type": "stream",
     "text": [
      "R2 Score is :  0.9388278509745729\n",
      "RMSE is: 0.006805427527653161\n"
     ]
    }
   ],
   "source": [
    "# Final Test\n",
    "### Random Forest Metrics on Test Data\n",
    "final_model = grid_search_forest.best_estimator_\n",
    "X_test_prepared = full_pipeline.transform(X_test)\n",
    "final_predictions = final_model.predict(X_test_prepared)\n",
    "R2 = r2_score(Y_test, final_predictions)\n",
    "print(\"R2 Score is : \", R2)\n",
    "print(\"RMSE is:\", get_model_rmse(grid_search_forest.best_estimator_, full_pipeline, X_test, Y_test))\n",
    "\n"
   ]
  },
  {
   "cell_type": "code",
   "execution_count": 38,
   "metadata": {},
   "outputs": [
    {
     "name": "stdout",
     "output_type": "stream",
     "text": [
      "R2 Score is :  0.8415378355758799\n",
      "RMSE is: 0.0069953483921755\n"
     ]
    }
   ],
   "source": [
    "### GBDT Metrics on Test Data\n",
    "final_model = grid_search_gbdt.best_estimator_\n",
    "X_test_prepared = full_pipeline.transform(X_test)\n",
    "final_predictions = final_model.predict(X_test_prepared)\n",
    "R2 = r2_score(Y_test, final_predictions)\n",
    "print(\"R2 Score is : \", R2)\n",
    "print(\"RMSE is:\", get_model_rmse(grid_search_gbdt.best_estimator_, full_pipeline, X_test, Y_test))\n"
   ]
  },
  {
   "cell_type": "markdown",
   "metadata": {},
   "source": [
    "# Test Set Plotting"
   ]
  },
  {
   "cell_type": "code",
   "execution_count": 39,
   "metadata": {},
   "outputs": [
    {
     "data": {
      "text/plain": [
       "Text(0.5, 1.0, 'RF Predictions on Testing Data')"
      ]
     },
     "execution_count": 39,
     "metadata": {},
     "output_type": "execute_result"
    },
    {
     "data": {
      "image/png": "[encoded data removed]",
      "text/plain": [
       "<Figure size 432x288 with 1 Axes>"
      ]
     },
     "metadata": {
      "needs_background": "light"
     },
     "output_type": "display_data"
    }
   ],
   "source": [
    "plt.scatter(Y_test, grid_search_forest.predict(X_test_prepared), color='g', label='Predictions')\n",
    "plt.plot(Y_test, Y_test)\n",
    "plt.xlabel(\"Actual Cap\")\n",
    "plt.ylabel(\"Predicted Cap\")\n",
    "plt.title(\"RF Predictions on Testing Data\")"
   ]
  },
  {
   "cell_type": "code",
   "execution_count": 40,
   "metadata": {},
   "outputs": [
    {
     "data": {
      "text/plain": [
       "Text(0.5, 1.0, 'GBDT Predictions on Testing Data')"
      ]
     },
     "execution_count": 40,
     "metadata": {},
     "output_type": "execute_result"
    },
    {
     "data": {
      "image/png": "[encoded data removed]",
      "text/plain": [
       "<Figure size 432x288 with 1 Axes>"
      ]
     },
     "metadata": {
      "needs_background": "light"
     },
     "output_type": "display_data"
    }
   ],
   "source": [
    "plt.scatter(Y_test, grid_search_gbdt.predict(X_test_prepared), color='b', label='Predictions')\n",
    "plt.plot(Y_test, Y_test)\n",
    "plt.xlabel(\"Actual Cap\")\n",
    "plt.ylabel(\"Predicted Cap\")\n",
    "plt.title(\"GBDT Predictions on Testing Data\")"
   ]
  },
  {
   "cell_type": "markdown",
   "metadata": {},
   "source": [
    "# Saving the Model"
   ]
  },
  {
   "cell_type": "code",
   "execution_count": 41,
   "metadata": {},
   "outputs": [],
   "source": [
    "# Open the file to save as .p file\n",
    "import pickle\n",
    "model_file = \"mlparest_model.p\"\n",
    "model_p = open(model_file, 'wb')\n",
    "final_model = grid_search_forest.best_estimator_\n",
    "final_model.feature_names = list(X.columns)\n",
    "final_model.version = \"1\"\n",
    "pickle.dump(final_model, model_p)\n",
    "# Close the pickle instances\n",
    "model_p.close()\n",
    "\n",
    "# Test the saved model\n",
    "with open(model_file, 'rb') as f:\n",
    "    final_model_loaded = pickle.load(f)"
   ]
  },
  {
   "cell_type": "markdown",
   "metadata": {},
   "source": [
    "### Testing on random data"
   ]
  },
  {
   "cell_type": "code",
   "execution_count": 42,
   "metadata": {},
   "outputs": [
    {
     "name": "stdout",
     "output_type": "stream",
     "text": [
      "[0.02326333 0.02730569 0.0296529  0.02223501 0.02055186 0.02301419\n",
      " 0.02914569 0.02222564 0.02484988 0.0221548 ]\n"
     ]
    }
   ],
   "source": [
    "test_input = np.random.rand(10,22)\n",
    "output = final_model_loaded.predict(test_input)\n",
    "print(output)"
   ]
  },
  {
   "cell_type": "code",
   "execution_count": null,
   "metadata": {},
   "outputs": [],
   "source": []
  }
 ],
 "metadata": {
  "kernelspec": {
   "display_name": "Python 3",
   "language": "python",
   "name": "python3"
  },
  "language_info": {
   "codemirror_mode": {
    "name": "ipython",
    "version": 3
   },
   "file_extension": ".py",
   "mimetype": "text/x-python",
   "name": "python",
   "nbconvert_exporter": "python",
   "pygments_lexer": "ipython3",
   "version": "3.7.3"
  }
 },
 "nbformat": 4,
 "nbformat_minor": 4
}
